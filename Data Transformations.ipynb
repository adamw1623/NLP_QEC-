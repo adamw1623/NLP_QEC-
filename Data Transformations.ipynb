{
 "cells": [
  {
   "cell_type": "code",
   "execution_count": 1,
   "metadata": {},
   "outputs": [],
   "source": [
    "import pandas as pd\n",
    "import numpy as np\n",
    "from scipy.stats import normaltest\n",
    "from scipy.stats import boxcox\n",
    "import matplotlib.pyplot as plt"
   ]
  },
  {
   "cell_type": "code",
   "execution_count": 2,
   "metadata": {},
   "outputs": [],
   "source": [
    "df = pd.read_csv('Final_Data.csv')\n",
    "features_list = ['CEOScore', 'AnalystScore', 'OtherExecScore', 'CEO_Word_Count', 'Analyst_Word_Count', 'OtherExec_Word_Count', \\\n",
    "               'CEO_Sent_Count', 'Analyst_Sent_Count', 'OtherExec_Sent_Count', 'CEO_Pos_Fin', 'CEO_Neg_Fin', 'CEO_Fin_Score2', \\\n",
    "               'Openness_Raw', 'Concientiousness_Raw', 'Extraversion_Raw', 'Agreeableness_Raw', 'Neuroticism_Raw'\\\n",
    "                 , 'marketcap', 'pricetobook', 'dividendyield', 'revenuegrowth', 'freecashflow', 'ebitda']\n",
    "df = df[features_list]\n",
    "#drop rows with null values\n",
    "df.replace('nm', pd.np.nan, inplace=True)\n",
    "df.dropna(inplace=True)\n",
    "df = df.replace('%','',regex=True).astype('float')"
   ]
  },
  {
   "cell_type": "code",
   "execution_count": null,
   "metadata": {},
   "outputs": [],
   "source": []
  },
  {
   "cell_type": "markdown",
   "metadata": {},
   "source": [
    "# Transformations"
   ]
  },
  {
   "cell_type": "code",
   "execution_count": 3,
   "metadata": {},
   "outputs": [
    {
     "name": "stdout",
     "output_type": "stream",
     "text": [
      "0.015493440723645693\n",
      "9.08691367276981e-06\n",
      "4.063012511718558e-09\n",
      "0.0011603611450630735\n",
      "1.3153611493874196e-07\n"
     ]
    },
    {
     "data": {
      "image/png": "[encoded data removed]",
      "text/plain": [
       "<Figure size 432x288 with 1 Axes>"
      ]
     },
     "metadata": {
      "needs_background": "light"
     },
     "output_type": "display_data"
    }
   ],
   "source": [
    "plt.hist(np.power(df['Analyst_Sent_Count'], .75))\n",
    "stat, p = normaltest(np.power(df['Analyst_Sent_Count'], .75))\n",
    "print(p)\n",
    "plt.hist(np.log(df['CEO_Neg_Fin'] + 1))\n",
    "stat, p = normaltest(np.log(df['CEO_Neg_Fin'] + 1))\n",
    "print(p)\n",
    "plt.hist(np.power(df['CEO_Fin_Score2'] + 1, .9))\n",
    "stat, p = normaltest(np.power(df['CEO_Fin_Score2'] + 1, .9))\n",
    "print(p)\n",
    "plt.hist(np.power(df['Extraversion_Raw'], 1))\n",
    "stat, p = normaltest(np.power(df['Extraversion_Raw'], 1))\n",
    "print(p)\n",
    "plt.hist(np.power(df['Agreeableness_Raw'], 1.7))\n",
    "stat, p = normaltest(np.power(df['Agreeableness_Raw'], 1.7))\n",
    "print(p)"
   ]
  },
  {
   "cell_type": "code",
   "execution_count": 4,
   "metadata": {},
   "outputs": [],
   "source": [
    "#transformations already made\n",
    "df['CEOScore_sqrt'] = np.power(df['CEOScore'], .5)\n",
    "df.drop('CEOScore', axis=1, inplace=True)\n",
    "df['CEO_Word_Count_sqrt'] = np.power(df['CEO_Word_Count'], .5)\n",
    "df.drop('CEO_Word_Count', axis=1, inplace=True)\n",
    "df['CEO_Sent_Count_sqrt'] = np.power(df['CEO_Sent_Count'], .5)\n",
    "df.drop('CEO_Sent_Count', axis=1, inplace=True)\n",
    "df['OtherExec_Sent_Count_sqrt'] = np.power(df['OtherExec_Sent_Count'], .5)\n",
    "df.drop('OtherExec_Sent_Count', axis=1, inplace=True)\n",
    "df['CEO_Pos_Fin_sqrt'] = np.power(df['CEO_Pos_Fin'], .5)\n",
    "df.drop('CEO_Pos_Fin', axis=1, inplace=True)\n",
    "df['AnalystScore_pwr'] = np.power(df['AnalystScore'], 1.7)\n",
    "df.drop('AnalystScore', axis=1, inplace=True)\n",
    "df['OtherExec_Word_Count_pwr'] = np.power(df['OtherExec_Word_Count'], .6)\n",
    "df.drop('OtherExec_Word_Count', axis=1, inplace=True)\n",
    "#change the feature list\n",
    "features_list = ['CEOScore_sqrt', 'AnalystScore_pwr', 'OtherExecScore', 'CEO_Word_Count_sqrt', 'Analyst_Word_Count', 'OtherExec_Word_Count_pwr', \\\n",
    "               'CEO_Sent_Count_sqrt', 'Analyst_Sent_Count', 'OtherExec_Sent_Count_sqrt', 'CEO_Pos_Fin_sqrt', 'CEO_Neg_Fin', 'CEO_Fin_Score2', \\\n",
    "               'Openness_Raw', 'Concientiousness_Raw', 'Extraversion_Raw', 'Agreeableness_Raw', 'Neuroticism_Raw'\\\n",
    "                 , 'marketcap', 'pricetobook', 'dividendyield', 'revenuegrowth', 'freecashflow', 'ebitda']\n",
    "\n",
    "#make the scores positive\n",
    "df['Openness_Raw'] = df['Openness_Raw'] + 1\n",
    "df['Concientiousness_Raw'] = df['Concientiousness_Raw'] + 1\n",
    "df['Extraversion_Raw'] = df['Extraversion_Raw'] + 1\n",
    "df['Agreeableness_Raw'] = df['Agreeableness_Raw'] + 1\n",
    "df['Neuroticism_Raw'] = df['Neuroticism_Raw'] + 1\n",
    "for f in features_list:\n",
    "    if df[f].min() <= 0:\n",
    "        df[f] = df[f] + np.abs(df[f].min()) + 1"
   ]
  },
  {
   "cell_type": "code",
   "execution_count": 1,
   "metadata": {},
   "outputs": [
    {
     "ename": "NameError",
     "evalue": "name 'features_list' is not defined",
     "output_type": "error",
     "traceback": [
      "\u001b[1;31m---------------------------------------------------------------------------\u001b[0m",
      "\u001b[1;31mNameError\u001b[0m                                 Traceback (most recent call last)",
      "\u001b[1;32m<ipython-input-1-340b925d229c>\u001b[0m in \u001b[0;36m<module>\u001b[1;34m()\u001b[0m\n\u001b[0;32m      1\u001b[0m \u001b[0malpha\u001b[0m \u001b[1;33m=\u001b[0m \u001b[1;36m.05\u001b[0m\u001b[1;33m\u001b[0m\u001b[0m\n\u001b[0;32m      2\u001b[0m \u001b[0mnon_normal\u001b[0m \u001b[1;33m=\u001b[0m \u001b[1;33m[\u001b[0m\u001b[1;33m]\u001b[0m\u001b[1;33m\u001b[0m\u001b[0m\n\u001b[1;32m----> 3\u001b[1;33m \u001b[1;32mfor\u001b[0m \u001b[0mf\u001b[0m \u001b[1;32min\u001b[0m \u001b[0mfeatures_list\u001b[0m\u001b[1;33m:\u001b[0m\u001b[1;33m\u001b[0m\u001b[0m\n\u001b[0m\u001b[0;32m      4\u001b[0m     \u001b[1;32mtry\u001b[0m\u001b[1;33m:\u001b[0m\u001b[1;33m\u001b[0m\u001b[0m\n\u001b[0;32m      5\u001b[0m         \u001b[0mstat\u001b[0m\u001b[1;33m,\u001b[0m \u001b[0mp\u001b[0m \u001b[1;33m=\u001b[0m \u001b[0mnormaltest\u001b[0m\u001b[1;33m(\u001b[0m\u001b[0mdf\u001b[0m\u001b[1;33m[\u001b[0m\u001b[0mf\u001b[0m\u001b[1;33m]\u001b[0m\u001b[1;33m)\u001b[0m\u001b[1;33m\u001b[0m\u001b[0m\n",
      "\u001b[1;31mNameError\u001b[0m: name 'features_list' is not defined"
     ]
    }
   ],
   "source": [
    "alpha = .05\n",
    "non_normal = []\n",
    "for f in features_list:\n",
    "    try:\n",
    "        stat, p = normaltest(df[f])\n",
    "        if p <= alpha:\n",
    "            non_normal.append(f)\n",
    "    except:\n",
    "        print(\"Error with %s\" %f)\n",
    "print(\"Features Left to Normalize: %d\" %len(non_normal))\n",
    "non_normal"
   ]
  },
  {
   "cell_type": "code",
   "execution_count": 14,
   "metadata": {},
   "outputs": [
    {
     "name": "stdout",
     "output_type": "stream",
     "text": [
      "OtherExecScore\n",
      "2.751985805383339e-29\n",
      "Analyst_Word_Count\n",
      "7.0946365990280164e-09\n",
      "Analyst_Sent_Count\n",
      "0.023293501305064666\n",
      "CEO_Neg_Fin\n",
      "0.004669784442948634\n",
      "CEO_Fin_Score2\n",
      "1.684888044187062e-08\n",
      "Extraversion_Raw\n",
      "0.021016450962153415\n",
      "Agreeableness_Raw\n",
      "0.0010108346150440922\n",
      "Neuroticism_Raw\n",
      "4.206450697431441e-17\n",
      "marketcap\n",
      "2.402223094129702e-30\n",
      "pricetobook\n",
      "0\n",
      "dividendyield\n",
      "3.5587910521393077e-28\n",
      "revenuegrowth\n",
      "3.987833841844092e-93\n",
      "freecashflow\n",
      "3.4826232460334682e-59\n",
      "ebitda\n",
      "6.106096018162707e-69\n"
     ]
    }
   ],
   "source": [
    "for f in non_normal:\n",
    "    try:\n",
    "        best_p = 0\n",
    "        for i in range(-100, 100, 1):\n",
    "            new_arr = boxcox(df[f], i/100)\n",
    "            stat, p = normaltest(new_arr)\n",
    "            if p > best_p:\n",
    "                best_p = p\n",
    "        if best_p <= alpha:\n",
    "            print(f)\n",
    "            print(best_p)\n",
    "        else:\n",
    "            print(\"A\" + f)\n",
    "    except:\n",
    "        print(\"Error with %s\" %f)"
   ]
  },
  {
   "cell_type": "code",
   "execution_count": 7,
   "metadata": {},
   "outputs": [
    {
     "name": "stdout",
     "output_type": "stream",
     "text": [
      "Features Left to Normalize: 14\n"
     ]
    },
    {
     "data": {
      "text/plain": [
       "['OtherExecScore',\n",
       " 'Analyst_Word_Count',\n",
       " 'Analyst_Sent_Count',\n",
       " 'CEO_Neg_Fin',\n",
       " 'CEO_Fin_Score2',\n",
       " 'Extraversion_Raw',\n",
       " 'Agreeableness_Raw',\n",
       " 'Neuroticism_Raw',\n",
       " 'marketcap',\n",
       " 'pricetobook',\n",
       " 'dividendyield',\n",
       " 'revenuegrowth',\n",
       " 'freecashflow',\n",
       " 'ebitda']"
      ]
     },
     "execution_count": 7,
     "metadata": {},
     "output_type": "execute_result"
    }
   ],
   "source": [
    "non_normal = []\n",
    "for f in features_list:\n",
    "    try:\n",
    "        stat, p = normaltest(df[f])\n",
    "        if p <= alpha:\n",
    "            non_normal.append(f)\n",
    "    except:\n",
    "        print(\"Error with %s\" %f)\n",
    "print(\"Features Left to Normalize: %d\" %len(non_normal))\n",
    "non_normal"
   ]
  },
  {
   "cell_type": "code",
   "execution_count": 16,
   "metadata": {},
   "outputs": [],
   "source": [
    "df.to_csv(\"Final_Data_Transformed.csv\")"
   ]
  },
  {
   "cell_type": "code",
   "execution_count": null,
   "metadata": {},
   "outputs": [],
   "source": []
  }
 ],
 "metadata": {
  "kernelspec": {
   "display_name": "Python 3",
   "language": "python",
   "name": "python3"
  },
  "language_info": {
   "codemirror_mode": {
    "name": "ipython",
    "version": 3
   },
   "file_extension": ".py",
   "mimetype": "text/x-python",
   "name": "python",
   "nbconvert_exporter": "python",
   "pygments_lexer": "ipython3",
   "version": "3.5.6"
  }
 },
 "nbformat": 4,
 "nbformat_minor": 2
}
