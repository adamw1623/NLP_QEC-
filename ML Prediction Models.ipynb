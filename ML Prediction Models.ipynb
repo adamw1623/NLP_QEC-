{
 "cells": [
  {
   "cell_type": "markdown",
   "metadata": {},
   "source": [
    "# Prediction Models"
   ]
  },
  {
   "cell_type": "code",
   "execution_count": 65,
   "metadata": {},
   "outputs": [
    {
     "name": "stderr",
     "output_type": "stream",
     "text": [
      "Using TensorFlow backend.\n"
     ]
    }
   ],
   "source": [
    "import pandas as pd\n",
    "import numpy as np\n",
    "from statsmodels.tools.eval_measures import mse\n",
    "from sklearn import svm\n",
    "from sklearn import neural_network\n",
    "from keras.models import Sequential\n",
    "from keras.layers import Dense"
   ]
  },
  {
   "cell_type": "markdown",
   "metadata": {},
   "source": [
    "## Data Definitions"
   ]
  },
  {
   "cell_type": "code",
   "execution_count": 57,
   "metadata": {},
   "outputs": [
    {
     "data": {
      "text/plain": [
       "23"
      ]
     },
     "execution_count": 57,
     "metadata": {},
     "output_type": "execute_result"
    }
   ],
   "source": [
    "features_list = ['CEOScore_sqrt', 'AnalystScore_pwr', 'OtherExecScore', 'CEO_Word_Count_sqrt', 'Analyst_Word_Count', 'OtherExec_Word_Count_pwr', \\\n",
    "               'CEO_Sent_Count_sqrt', 'Analyst_Sent_Count', 'OtherExec_Sent_Count_sqrt', 'CEO_Pos_Fin_sqrt', 'CEO_Neg_Fin', 'CEO_Fin_Score2', \\\n",
    "               'Openness_Raw', 'Concientiousness_Raw', 'Extraversion_Raw', 'Agreeableness_Raw', 'Neuroticism_Raw'\\\n",
    "                 , 'marketcap', 'pricetobook', 'dividendyield', 'revenuegrowth', 'freecashflow', 'ebitda']\n",
    "target_list = ['one_ret', 'five_ret','thirty_ret','fourtyfive_ret','B0one_ret','B0five_ret','B0thirty_ret','B0fourtyfive_ret']\n",
    "train_set = pd.read_csv('Final_Data_Train.csv')\n",
    "test_set = pd.read_csv('Final_Data_Test.csv')\n",
    "train_features = train_set[features_list]\n",
    "test_features = test_set[features_list]\n",
    "len(features_list)"
   ]
  },
  {
   "cell_type": "code",
   "execution_count": 30,
   "metadata": {},
   "outputs": [
    {
     "name": "stderr",
     "output_type": "stream",
     "text": [
      "C:\\Users\\Adam\\Anaconda3\\lib\\site-packages\\ipykernel_launcher.py:7: SettingWithCopyWarning: \n",
      "A value is trying to be set on a copy of a slice from a DataFrame.\n",
      "Try using .loc[row_indexer,col_indexer] = value instead\n",
      "\n",
      "See the caveats in the documentation: http://pandas.pydata.org/pandas-docs/stable/indexing.html#indexing-view-versus-copy\n",
      "  import sys\n",
      "C:\\Users\\Adam\\Anaconda3\\lib\\site-packages\\ipykernel_launcher.py:8: SettingWithCopyWarning: \n",
      "A value is trying to be set on a copy of a slice from a DataFrame.\n",
      "Try using .loc[row_indexer,col_indexer] = value instead\n",
      "\n",
      "See the caveats in the documentation: http://pandas.pydata.org/pandas-docs/stable/indexing.html#indexing-view-versus-copy\n",
      "  \n",
      "C:\\Users\\Adam\\Anaconda3\\lib\\site-packages\\ipykernel_launcher.py:9: SettingWithCopyWarning: \n",
      "A value is trying to be set on a copy of a slice from a DataFrame.\n",
      "Try using .loc[row_indexer,col_indexer] = value instead\n",
      "\n",
      "See the caveats in the documentation: http://pandas.pydata.org/pandas-docs/stable/indexing.html#indexing-view-versus-copy\n",
      "  if __name__ == '__main__':\n",
      "C:\\Users\\Adam\\Anaconda3\\lib\\site-packages\\ipykernel_launcher.py:10: SettingWithCopyWarning: \n",
      "A value is trying to be set on a copy of a slice from a DataFrame.\n",
      "Try using .loc[row_indexer,col_indexer] = value instead\n",
      "\n",
      "See the caveats in the documentation: http://pandas.pydata.org/pandas-docs/stable/indexing.html#indexing-view-versus-copy\n",
      "  # Remove the CWD from sys.path while we load stuff.\n"
     ]
    }
   ],
   "source": [
    "#normalize the features (two ways, mean and min/max)\n",
    "train_features_minmaxnorm = train_features\n",
    "train_features_znorm = train_features\n",
    "test_features_minmaxnorm = test_features\n",
    "test_features_znorm = test_features\n",
    "for f in features_list:\n",
    "    train_features_minmaxnorm[f] = (train_features[f] - train_features[f].min())/(train_features[f].max() - train_features[f].min())\n",
    "    test_features_minmaxnorm[f] = (test_features[f] - train_features[f].min())/(train_features[f].max() - train_features[f].min())\n",
    "    train_features_znorm[f] = (train_features[f] - train_features[f].mean()) / train_features[f].std()\n",
    "    test_features_znorm[f] = (test_features[f] - train_features[f].mean()) / train_features[f].std()"
   ]
  },
  {
   "cell_type": "markdown",
   "metadata": {},
   "source": [
    "## Support Vector Machines"
   ]
  },
  {
   "cell_type": "code",
   "execution_count": 51,
   "metadata": {},
   "outputs": [
    {
     "name": "stdout",
     "output_type": "stream",
     "text": [
      "SVM w/ MinMaxNorm Train MSE: 0.019\n",
      "SVM w/ MinMaxNorm Test MSE: 0.023\n",
      "SVM w/ ZNorm Train MSE: 0.019\n",
      "SVM w/ ZNorm Test MSE: 0.023\n"
     ]
    },
    {
     "name": "stderr",
     "output_type": "stream",
     "text": [
      "C:\\Users\\Adam\\Anaconda3\\lib\\site-packages\\sklearn\\svm\\base.py:196: FutureWarning: The default value of gamma will change from 'auto' to 'scale' in version 0.22 to account better for unscaled features. Set gamma explicitly to 'auto' or 'scale' to avoid this warning.\n",
      "  \"avoid this warning.\", FutureWarning)\n",
      "C:\\Users\\Adam\\Anaconda3\\lib\\site-packages\\sklearn\\svm\\base.py:196: FutureWarning: The default value of gamma will change from 'auto' to 'scale' in version 0.22 to account better for unscaled features. Set gamma explicitly to 'auto' or 'scale' to avoid this warning.\n",
      "  \"avoid this warning.\", FutureWarning)\n"
     ]
    }
   ],
   "source": [
    "svm_model_mmnorm = svm.SVR(kernel='rbf')\n",
    "svm_model_mmnorm.fit(train_features_minmaxnorm, train_set['fourtyfive_ret'])\n",
    "print(\"SVM w/ MinMaxNorm Train MSE: %.3f\" %mse(svm_model_mmnorm.predict(train_features_minmaxnorm), train_set['fourtyfive_ret']))\n",
    "print(\"SVM w/ MinMaxNorm Test MSE: %.3f\" %mse(svm_model_mmnorm.predict(test_features_minmaxnorm), test_set['fourtyfive_ret']))\n",
    "svm_model_znorm = svm.SVR(kernel='rbf')\n",
    "svm_model_znorm.fit(train_features_znorm, train_set['fourtyfive_ret'])\n",
    "print(\"SVM w/ ZNorm Train MSE: %.3f\" %mse(svm_model_znorm.predict(train_features_znorm), train_set['fourtyfive_ret']))\n",
    "print(\"SVM w/ ZNorm Test MSE: %.3f\" %mse(svm_model_znorm.predict(test_features_znorm), test_set['fourtyfive_ret']))"
   ]
  },
  {
   "cell_type": "markdown",
   "metadata": {},
   "source": [
    "## Neural Nets (Scikit MLP)"
   ]
  },
  {
   "cell_type": "code",
   "execution_count": 63,
   "metadata": {},
   "outputs": [
    {
     "name": "stdout",
     "output_type": "stream",
     "text": [
      "MLP w/ MinMaxNorm Train MSE: 0.014\n",
      "MLP w/ MinMaxNorm Test MSE: 16772370710758627328.000\n",
      "SVM w/ ZNorm Train MSE: 0.004\n",
      "SVM w/ ZNorm Test MSE: 5210293135066345472.000\n"
     ]
    }
   ],
   "source": [
    "#Tried changing \n",
    "mlp_model_mmnorm = neural_network.MLPRegressor(hidden_layer_sizes = (23), solver='lbfgs')\n",
    "mlp_model_mmnorm.fit(train_features_minmaxnorm, train_set['fourtyfive_ret'])\n",
    "print(\"MLP w/ MinMaxNorm Train MSE: %.3f\" %mse(mlp_model_mmnorm.predict(train_features_minmaxnorm), train_set['fourtyfive_ret']))\n",
    "print(\"MLP w/ MinMaxNorm Test MSE: %.3f\" %mse(mlp_model_mmnorm.predict(test_features_minmaxnorm), test_set['fourtyfive_ret']))\n",
    "mlp_model_znorm = neural_network.MLPRegressor(hidden_layer_sizes = (23, 23, 23), solver='lbfgs')\n",
    "mlp_model_znorm.fit(train_features_znorm, train_set['fourtyfive_ret'])\n",
    "print(\"SVM w/ ZNorm Train MSE: %.3f\" %mse(mlp_model_znorm.predict(train_features_znorm), train_set['fourtyfive_ret']))\n",
    "print(\"SVM w/ ZNorm Test MSE: %.3f\" %mse(mlp_model_znorm.predict(test_features_znorm), test_set['fourtyfive_ret']))"
   ]
  },
  {
   "cell_type": "code",
   "execution_count": 89,
   "metadata": {},
   "outputs": [
    {
     "name": "stdout",
     "output_type": "stream",
     "text": [
      "Epoch 1/50\n",
      "779/779 [==============================] - 1s 1ms/step - loss: 0.0265 - mean_squared_error: 0.0265\n",
      "Epoch 2/50\n",
      "779/779 [==============================] - 0s 64us/step - loss: 0.0265 - mean_squared_error: 0.0265\n",
      "Epoch 3/50\n",
      "779/779 [==============================] - 0s 67us/step - loss: 0.0265 - mean_squared_error: 0.0265\n",
      "Epoch 4/50\n",
      "779/779 [==============================] - 0s 65us/step - loss: 0.0265 - mean_squared_error: 0.0265\n",
      "Epoch 5/50\n",
      "779/779 [==============================] - 0s 71us/step - loss: 0.0265 - mean_squared_error: 0.0265\n",
      "Epoch 6/50\n",
      "779/779 [==============================] - 0s 64us/step - loss: 0.0264 - mean_squared_error: 0.0264\n",
      "Epoch 7/50\n",
      "779/779 [==============================] - 0s 86us/step - loss: 0.0264 - mean_squared_error: 0.0264\n",
      "Epoch 8/50\n",
      "779/779 [==============================] - 0s 78us/step - loss: 0.0264 - mean_squared_error: 0.0264\n",
      "Epoch 9/50\n",
      "779/779 [==============================] - 0s 64us/step - loss: 0.0264 - mean_squared_error: 0.0264\n",
      "Epoch 10/50\n",
      "779/779 [==============================] - 0s 59us/step - loss: 0.0264 - mean_squared_error: 0.0264\n",
      "Epoch 11/50\n",
      "779/779 [==============================] - 0s 85us/step - loss: 0.0264 - mean_squared_error: 0.0264\n",
      "Epoch 12/50\n",
      "779/779 [==============================] - 0s 67us/step - loss: 0.0264 - mean_squared_error: 0.0264\n",
      "Epoch 13/50\n",
      "779/779 [==============================] - 0s 68us/step - loss: 0.0264 - mean_squared_error: 0.0264\n",
      "Epoch 14/50\n",
      "779/779 [==============================] - 0s 73us/step - loss: 0.0264 - mean_squared_error: 0.0264\n",
      "Epoch 15/50\n",
      "779/779 [==============================] - 0s 99us/step - loss: 0.0264 - mean_squared_error: 0.0264\n",
      "Epoch 16/50\n",
      "779/779 [==============================] - 0s 63us/step - loss: 0.0264 - mean_squared_error: 0.0264\n",
      "Epoch 17/50\n",
      "779/779 [==============================] - 0s 82us/step - loss: 0.0264 - mean_squared_error: 0.0264\n",
      "Epoch 18/50\n",
      "779/779 [==============================] - 0s 85us/step - loss: 0.0264 - mean_squared_error: 0.0264\n",
      "Epoch 19/50\n",
      "779/779 [==============================] - 0s 71us/step - loss: 0.0264 - mean_squared_error: 0.0264\n",
      "Epoch 20/50\n",
      "779/779 [==============================] - 0s 73us/step - loss: 0.0264 - mean_squared_error: 0.0264\n",
      "Epoch 21/50\n",
      "779/779 [==============================] - 0s 113us/step - loss: 0.0264 - mean_squared_error: 0.0264\n",
      "Epoch 22/50\n",
      "779/779 [==============================] - 0s 74us/step - loss: 0.0264 - mean_squared_error: 0.0264\n",
      "Epoch 23/50\n",
      "779/779 [==============================] - 0s 94us/step - loss: 0.0264 - mean_squared_error: 0.0264\n",
      "Epoch 24/50\n",
      "779/779 [==============================] - 0s 58us/step - loss: 0.0264 - mean_squared_error: 0.0264\n",
      "Epoch 25/50\n",
      "779/779 [==============================] - 0s 76us/step - loss: 0.0264 - mean_squared_error: 0.0264\n",
      "Epoch 26/50\n",
      "779/779 [==============================] - 0s 63us/step - loss: 0.0264 - mean_squared_error: 0.0264\n",
      "Epoch 27/50\n",
      "779/779 [==============================] - 0s 81us/step - loss: 0.0264 - mean_squared_error: 0.0264\n",
      "Epoch 28/50\n",
      "779/779 [==============================] - 0s 137us/step - loss: 0.0264 - mean_squared_error: 0.0264\n",
      "Epoch 29/50\n",
      "779/779 [==============================] - 0s 65us/step - loss: 0.0264 - mean_squared_error: 0.0264\n",
      "Epoch 30/50\n",
      "779/779 [==============================] - 0s 103us/step - loss: 0.0264 - mean_squared_error: 0.0264\n",
      "Epoch 31/50\n",
      "779/779 [==============================] - ETA: 0s - loss: 0.0274 - mean_squared_error: 0.02 - 0s 133us/step - loss: 0.0264 - mean_squared_error: 0.0264\n",
      "Epoch 32/50\n",
      "779/779 [==============================] - 0s 123us/step - loss: 0.0264 - mean_squared_error: 0.0264\n",
      "Epoch 33/50\n",
      "779/779 [==============================] - 0s 95us/step - loss: 0.0264 - mean_squared_error: 0.0264\n",
      "Epoch 34/50\n",
      "779/779 [==============================] - 0s 142us/step - loss: 0.0264 - mean_squared_error: 0.0264\n",
      "Epoch 35/50\n",
      "779/779 [==============================] - 0s 83us/step - loss: 0.0264 - mean_squared_error: 0.0264\n",
      "Epoch 36/50\n",
      "779/779 [==============================] - 0s 113us/step - loss: 0.0264 - mean_squared_error: 0.0264\n",
      "Epoch 37/50\n",
      "779/779 [==============================] - 0s 65us/step - loss: 0.0264 - mean_squared_error: 0.0264\n",
      "Epoch 38/50\n",
      "779/779 [==============================] - 0s 86us/step - loss: 0.0264 - mean_squared_error: 0.0264\n",
      "Epoch 39/50\n",
      "779/779 [==============================] - 0s 67us/step - loss: 0.0264 - mean_squared_error: 0.0264\n",
      "Epoch 40/50\n",
      "779/779 [==============================] - 0s 94us/step - loss: 0.0264 - mean_squared_error: 0.0264\n",
      "Epoch 41/50\n",
      "779/779 [==============================] - 0s 82us/step - loss: 0.0264 - mean_squared_error: 0.0264\n",
      "Epoch 42/50\n",
      "779/779 [==============================] - 0s 78us/step - loss: 0.0264 - mean_squared_error: 0.0264\n",
      "Epoch 43/50\n",
      "779/779 [==============================] - 0s 76us/step - loss: 0.0264 - mean_squared_error: 0.0264\n",
      "Epoch 44/50\n",
      "779/779 [==============================] - 0s 81us/step - loss: 0.0264 - mean_squared_error: 0.0264\n",
      "Epoch 45/50\n",
      "779/779 [==============================] - 0s 76us/step - loss: 0.0264 - mean_squared_error: 0.0264\n",
      "Epoch 46/50\n",
      "779/779 [==============================] - 0s 77us/step - loss: 0.0264 - mean_squared_error: 0.0264\n",
      "Epoch 47/50\n",
      "779/779 [==============================] - 0s 119us/step - loss: 0.0264 - mean_squared_error: 0.0264\n",
      "Epoch 48/50\n",
      "779/779 [==============================] - 0s 101us/step - loss: 0.0264 - mean_squared_error: 0.0264\n",
      "Epoch 49/50\n",
      "779/779 [==============================] - 0s 113us/step - loss: 0.0264 - mean_squared_error: 0.0264\n",
      "Epoch 50/50\n",
      "779/779 [==============================] - 0s 136us/step - loss: 0.0264 - mean_squared_error: 0.0264\n",
      "779/779 [==============================] - 1s 654us/step\n",
      "193/193 [==============================] - 0s 171us/step\n",
      "Train MSE: 0.026\n",
      "Test MSE: 0.023\n"
     ]
    }
   ],
   "source": [
    "# fix random seed for reproducibility\n",
    "np.random.seed(7)\n",
    "# create model\n",
    "model = Sequential()\n",
    "model.add(Dense(23, input_dim=23, activation='relu'))\n",
    "model.add(Dense(100, activation='relu'))\n",
    "model.add(Dense(100, activation='relu'))\n",
    "model.add(Dense(1, activation='relu'))\n",
    "# Compile model\n",
    "model.compile(loss='mean_squared_error', optimizer='sgd', metrics=['MSE'])\n",
    "# Fit the model\n",
    "model.fit(train_features_znorm, train_set['fourtyfive_ret'], epochs=50, batch_size=100)\n",
    "# evaluate the model\n",
    "train_mse = model.evaluate(train_features_znorm, train_set['fourtyfive_ret'])\n",
    "test_mse = model.evaluate(test_features_znorm, test_set['fourtyfive_ret'])\n",
    "print(\"Train MSE: %.3f\" %train_mse[1])\n",
    "print(\"Test MSE: %.3f\" %test_mse[1])"
   ]
  },
  {
   "cell_type": "code",
   "execution_count": null,
   "metadata": {},
   "outputs": [],
   "source": []
  }
 ],
 "metadata": {
  "kernelspec": {
   "display_name": "Python 3",
   "language": "python",
   "name": "python3"
  },
  "language_info": {
   "codemirror_mode": {
    "name": "ipython",
    "version": 3
   },
   "file_extension": ".py",
   "mimetype": "text/x-python",
   "name": "python",
   "nbconvert_exporter": "python",
   "pygments_lexer": "ipython3",
   "version": "3.5.6"
  }
 },
 "nbformat": 4,
 "nbformat_minor": 2
}
